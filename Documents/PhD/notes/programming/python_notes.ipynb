{
 "cells": [
  {
   "cell_type": "code",
   "execution_count": 7,
   "metadata": {
    "collapsed": false
   },
   "outputs": [
    {
     "name": "stdout",
     "output_type": "stream",
     "text": [
      "['', '/Users/AmandaE/anaconda/lib/python27.zip', '/Users/AmandaE/anaconda/lib/python2.7', '/Users/AmandaE/anaconda/lib/python2.7/plat-darwin', '/Users/AmandaE/anaconda/lib/python2.7/plat-mac', '/Users/AmandaE/anaconda/lib/python2.7/plat-mac/lib-scriptpackages', '/Users/AmandaE/anaconda/lib/python2.7/lib-tk', '/Users/AmandaE/anaconda/lib/python2.7/lib-old', '/Users/AmandaE/anaconda/lib/python2.7/lib-dynload', '/Users/AmandaE/.local/lib/python2.7/site-packages', '/Users/AmandaE/anaconda/lib/python2.7/site-packages', '/Users/AmandaE/anaconda/lib/python2.7/site-packages/Sphinx-1.3.1-py2.7.egg', '/Users/AmandaE/anaconda/lib/python2.7/site-packages/aeosa', '/Users/AmandaE/anaconda/lib/python2.7/site-packages/cycler-0.10.0-py2.7.egg', '/Users/AmandaE/anaconda/lib/python2.7/site-packages/setuptools-27.2.0-py2.7.egg', '/Users/AmandaE/anaconda/lib/python2.7/site-packages/IPython/extensions', '/Users/AmandaE/.ipython', '/Users/AmandaE/Documents/PhD/notes/programming/gitfun', '/Users/AmandaE/Documents/PhD/notes/programming/gitfun', '/Users/AmandaE/Documents/PhD/notes/programming/gitfun/']\n"
     ]
    }
   ],
   "source": [
    "# Python learning :)\n",
    "import sys\n",
    "sys.path.append('/Users/AmandaE/Documents/PhD/notes/programming/gitfun/')\n",
    "print sys.path\n",
    "\n",
    "# last checkpoint: "
   ]
  },
  {
   "cell_type": "code",
   "execution_count": 1,
   "metadata": {
    "collapsed": false
   },
   "outputs": [
    {
     "name": "stdout",
     "output_type": "stream",
     "text": [
      "What is the temperature in celsius?: 25\n",
      "The temperature is 77.0 degrees Fahrenheit\n"
     ]
    }
   ],
   "source": [
    "# make a temperature converter (pp.22)\n",
    "def tempcon():\n",
    "    celsius = input('What is the temperature in celsius?: ')\n",
    "    fahrenheit = 9.0 / 5.0 * celsius + 32\n",
    "    print \"The temperature is\", fahrenheit, \"degrees Fahrenheit\"\n",
    "\n",
    "tempcon()"
   ]
  },
  {
   "cell_type": "code",
   "execution_count": 4,
   "metadata": {
    "collapsed": false
   },
   "outputs": [
    {
     "name": "stdout",
     "output_type": "stream",
     "text": [
      "Enter coefficients: -4, 2, 8\n",
      "The solutions are:  -1.18614066163 1.68614066163\n"
     ]
    }
   ],
   "source": [
    "### ** exponent; % remainder\n",
    "\n",
    "# integer division always results in integer\n",
    "\n",
    "import math\n",
    "\n",
    "def findRoots():\n",
    "    a,b,c = input(\"Enter coefficients: \")\n",
    "    discRoot = math.sqrt(b*b - 4*a*c)\n",
    "    root1 = (-b+discRoot)/(2*a)\n",
    "    root2 = (-b-discRoot)/(2*a)\n",
    "    print \"The solutions are: \", root1, root2\n",
    "\n",
    "findRoots()\n"
   ]
  },
  {
   "cell_type": "code",
   "execution_count": 6,
   "metadata": {
    "collapsed": false
   },
   "outputs": [
    {
     "name": "stdout",
     "output_type": "stream",
     "text": [
      "3.14159265359\n",
      "2.71828182846\n",
      "0.479425538604\n",
      "0.87758256189\n",
      "0.546302489844\n",
      "0.523598775598\n",
      "-0.69314718056\n",
      "-0.301029995664\n",
      "1.6487212707\n",
      "1.0\n",
      "0.0\n"
     ]
    }
   ],
   "source": [
    "# math library functions\n",
    "x = 0.5\n",
    "print math.pi\n",
    "print math.e\n",
    "print math.sin(x)\n",
    "print math.cos(x)\n",
    "print math.tan(x)\n",
    "print math.asin(x)\n",
    "print math.log(x)\n",
    "print math.log10(x)\n",
    "print math.exp(x)\n",
    "print math.ceil(x)\n",
    "print math.floor(x)"
   ]
  },
  {
   "cell_type": "code",
   "execution_count": 7,
   "metadata": {
    "collapsed": false
   },
   "outputs": [
    {
     "name": "stdout",
     "output_type": "stream",
     "text": [
      "Please enter a whole number: 7\n",
      "The factorial of 7 is 5040\n"
     ]
    }
   ],
   "source": [
    "# range function: range(start,stop,step)\n",
    "# for factorials: range(2,n+1)\n",
    "\n",
    "def computeFact():\n",
    "    n = input(\"Please enter a whole number: \")\n",
    "    fact = 1\n",
    "    for factor in range(n,1,-1):\n",
    "        fact = fact*factor\n",
    "    print \"The factorial of\", n, \"is\", fact\n",
    "    \n",
    "computeFact()"
   ]
  },
  {
   "cell_type": "markdown",
   "metadata": {
    "collapsed": true
   },
   "source": [
    "# COOL SCIENCE STUFF :)\n"
   ]
  },
  {
   "cell_type": "code",
   "execution_count": 1,
   "metadata": {
    "collapsed": false
   },
   "outputs": [
    {
     "ename": "ImportError",
     "evalue": "No module named EEGrunt",
     "output_type": "error",
     "traceback": [
      "\u001b[0;31m---------------------------------------------------------------------------\u001b[0m",
      "\u001b[0;31mImportError\u001b[0m                               Traceback (most recent call last)",
      "\u001b[0;32m<ipython-input-1-2736be905d85>\u001b[0m in \u001b[0;36m<module>\u001b[0;34m()\u001b[0m\n\u001b[1;32m      1\u001b[0m \u001b[0;31m## EEGrunt\u001b[0m\u001b[0;34m\u001b[0m\u001b[0;34m\u001b[0m\u001b[0m\n\u001b[0;32m----> 2\u001b[0;31m \u001b[0;32mimport\u001b[0m \u001b[0mEEGrunt\u001b[0m \u001b[0;32mas\u001b[0m \u001b[0meegrunt\u001b[0m\u001b[0;34m\u001b[0m\u001b[0m\n\u001b[0m",
      "\u001b[0;31mImportError\u001b[0m: No module named EEGrunt"
     ]
    }
   ],
   "source": [
    "## EEGrunt\n",
    "import EEGrunt as eegrunt"
   ]
  },
  {
   "cell_type": "code",
   "execution_count": 7,
   "metadata": {
    "collapsed": false
   },
   "outputs": [
    {
     "ename": "TypeError",
     "evalue": "'module' object is not callable",
     "output_type": "error",
     "traceback": [
      "\u001b[0;31m---------------------------------------------------------------------------\u001b[0m",
      "\u001b[0;31mTypeError\u001b[0m                                 Traceback (most recent call last)",
      "\u001b[0;32m<ipython-input-7-cd43e98c9792>\u001b[0m in \u001b[0;36m<module>\u001b[0;34m()\u001b[0m\n\u001b[1;32m      3\u001b[0m \u001b[0msys\u001b[0m\u001b[0;34m.\u001b[0m\u001b[0mpath\u001b[0m\u001b[0;34m\u001b[0m\u001b[0m\n\u001b[1;32m      4\u001b[0m \u001b[0;32mimport\u001b[0m \u001b[0mos\u001b[0m\u001b[0;34m\u001b[0m\u001b[0m\n\u001b[0;32m----> 5\u001b[0;31m \u001b[0mos\u001b[0m\u001b[0;34m.\u001b[0m\u001b[0mpath\u001b[0m\u001b[0;34m(\u001b[0m\u001b[0;34m)\u001b[0m\u001b[0;34m\u001b[0m\u001b[0m\n\u001b[0m",
      "\u001b[0;31mTypeError\u001b[0m: 'module' object is not callable"
     ]
    }
   ],
   "source": [
    "import sys\n",
    "sys.path.append('/Users/AmandaE/Documents/PhD/notes/programming/gitfun')\n",
    "sys.path\n"
   ]
  },
  {
   "cell_type": "code",
   "execution_count": null,
   "metadata": {
    "collapsed": true
   },
   "outputs": [],
   "source": []
  }
 ],
 "metadata": {
  "kernelspec": {
   "display_name": "Python 2",
   "language": "python",
   "name": "python2"
  },
  "language_info": {
   "codemirror_mode": {
    "name": "ipython",
    "version": 2
   },
   "file_extension": ".py",
   "mimetype": "text/x-python",
   "name": "python",
   "nbconvert_exporter": "python",
   "pygments_lexer": "ipython2",
   "version": "2.7.12"
  }
 },
 "nbformat": 4,
 "nbformat_minor": 0
}
