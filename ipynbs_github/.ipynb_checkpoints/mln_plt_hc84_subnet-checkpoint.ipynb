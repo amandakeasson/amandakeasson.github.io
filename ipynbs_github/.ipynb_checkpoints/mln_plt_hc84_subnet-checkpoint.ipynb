{
 "cells": [
  {
   "cell_type": "markdown",
   "metadata": {},
   "source": [
    "# This file is to demonstrate the hidden networks with 15*N=28 and then get the verified results\n",
    "Huifang for Amanda on July 21, 2016\n"
   ]
  },
  {
   "cell_type": "code",
   "execution_count": 1,
   "metadata": {
    "collapsed": false
   },
   "outputs": [],
   "source": [
    "import scipy.io\n",
    "import os.path\n",
    "import sys\n"
   ]
  },
  {
   "cell_type": "code",
   "execution_count": 2,
   "metadata": {
    "collapsed": false
   },
   "outputs": [
    {
     "name": "stdout",
     "output_type": "stream",
     "text": [
      "Populating the interactive namespace from numpy and matplotlib\n"
     ]
    }
   ],
   "source": [
    "%pylab inline"
   ]
  },
  {
   "cell_type": "code",
   "execution_count": 3,
   "metadata": {
    "collapsed": false
   },
   "outputs": [],
   "source": [
    "import matplotlib.gridspec as gridspec"
   ]
  },
  {
   "cell_type": "code",
   "execution_count": 4,
   "metadata": {
    "collapsed": true
   },
   "outputs": [],
   "source": [
    "def mln_read_mlnMat(filename):\n",
    "    matdata = scipy.io.loadmat(filename)\n",
    "    mlnMat=matdata['mlnMat']     # WHAT IS THIS?\n",
    "    para=matdata['para'][0][0]   # WHAT IS THIS?\n",
    "    \n",
    "    return mlnMat, para"
   ]
  },
  {
   "cell_type": "code",
   "execution_count": 5,
   "metadata": {
    "collapsed": true
   },
   "outputs": [],
   "source": [
    "def mln_fmlnMat(nc, filename):   # DO I NEED THIS?\n",
    "    mlnMat,para=mln_read_mlnMat(filename)\n",
    "    methodlog=para['methodlog']\n",
    "    theta=para['theta']\n",
    "\n",
    "\n",
    "    #fmlnMat=np.zeros([nc,nc])    \n",
    "    thetamlnMat=mlnMat\n",
    "    for iboot in np.arange(20):\n",
    "        imlnMat=mlnMat[:,:,iboot]\n",
    "        ithethod=para['theta'][iboot]\n",
    "        imlnMat[imlnMat<ithethod[0]]=0\n",
    "        imlnMat[imlnMat>=ithethod[1]]=2\n",
    "        imlnMat[(imlnMat>=ithethod[0])*(imlnMat<ithethod[1])]=1\n",
    "        thetamlnMat[:,:,iboot]=imlnMat\n",
    "    imdMat=np.median(thetamlnMat,axis=2)\n",
    "    imdMat[imdMat<0.6]=0.\n",
    "    return imdMat"
   ]
  },
  {
   "cell_type": "code",
   "execution_count": 8,
   "metadata": {
    "collapsed": false
   },
   "outputs": [],
   "source": [
    "from mne.viz import circular_layout"
   ]
  },
  {
   "cell_type": "code",
   "execution_count": 9,
   "metadata": {
    "collapsed": true
   },
   "outputs": [],
   "source": [
    "import itertools"
   ]
  },
  {
   "cell_type": "code",
   "execution_count": 14,
   "metadata": {
    "collapsed": false
   },
   "outputs": [],
   "source": [
    "def mln_read_listlink(dfilename):\n",
    "    \n",
    "    timedata = scipy.io.loadmat(dfilename)\n",
    "    Params=timedata['Params']\n",
    "    #para=matdata['para'][0][0]\n",
    "    iliststr=Params['str'][:][0][0][0]\n",
    "    #ilistlink=[(iliststr[inode][0][0],iliststr[jnode][0][0]) for inode in np.arange(nc) for jnode in np.arange(nc)]\n",
    "    return iliststr"
   ]
  },
  {
   "cell_type": "code",
   "execution_count": 92,
   "metadata": {
    "collapsed": false,
    "scrolled": true
   },
   "outputs": [
    {
     "name": "stdout",
     "output_type": "stream",
     "text": [
      "/Users/AmandaE/Documents/MATLAB/projects/hidden/data_subnets/subj02_1_2b12\n",
      "/Users/AmandaE/Documents/MATLAB/projects/hidden/data_subnets/subj02_1_2b13\n",
      "/Users/AmandaE/Documents/MATLAB/projects/hidden/data_subnets/subj02_1_2b14\n",
      "/Users/AmandaE/Documents/MATLAB/projects/hidden/data_subnets/subj02_1_2b15\n",
      "/Users/AmandaE/Documents/MATLAB/projects/hidden/data_subnets/subj02_1_2b16\n",
      "/Users/AmandaE/Documents/MATLAB/projects/hidden/data_subnets/subj02_1_2b23\n",
      "/Users/AmandaE/Documents/MATLAB/projects/hidden/data_subnets/subj02_1_2b24\n",
      "/Users/AmandaE/Documents/MATLAB/projects/hidden/data_subnets/subj02_1_2b25\n",
      "/Users/AmandaE/Documents/MATLAB/projects/hidden/data_subnets/subj02_1_2b26\n",
      "/Users/AmandaE/Documents/MATLAB/projects/hidden/data_subnets/subj02_1_2b34\n",
      "/Users/AmandaE/Documents/MATLAB/projects/hidden/data_subnets/subj02_1_2b35\n",
      "/Users/AmandaE/Documents/MATLAB/projects/hidden/data_subnets/subj02_1_2b36\n",
      "/Users/AmandaE/Documents/MATLAB/projects/hidden/data_subnets/subj02_1_2b45\n",
      "/Users/AmandaE/Documents/MATLAB/projects/hidden/data_subnets/subj02_1_2b46\n",
      "/Users/AmandaE/Documents/MATLAB/projects/hidden/data_subnets/subj02_1_2b56\n"
     ]
    }
   ],
   "source": [
    "basicrawdir='/Users/AmandaE/Documents/MATLAB/projects/mulan_files/mlnData/fc_abide_jan20' # folder names\n",
    "\n",
    "datasets='subj02_1_2'# datasets name in /data folder\n",
    "\n",
    "## /Users/AmandaE/Documents/MATLAB/projects/hidden\n",
    "\n",
    "basicdir=basicrawdir+'hidden'\n",
    "iwins=80\n",
    "\n",
    "Toutdir=basicdir+'/'+'ToutResults/'\n",
    "\n",
    "bm='PDC'\n",
    "\n",
    "N28fMat=[]\n",
    "nchan=84\n",
    "listlinkall=[]\n",
    "for inbgv,bgv in enumerate(itertools.combinations(np.arange(6)+1,2)):\n",
    "    addname='b'+str(bgv[0])+str(bgv[1])\n",
    "    \n",
    "    Toutdir=basicdir+'/'+'/ToutResults/'\n",
    "    \n",
    "    prename=datasets+addname\n",
    "    \n",
    "    toutfile='Tout_'+str(iwins)+'_'+prename+'.mat'\n",
    "    id_datasets=datasets+addname\n",
    "    filename=Toutdir+toutfile\n",
    "    \n",
    "    matdata = scipy.io.loadmat(filename)\n",
    "    bmMat=matdata[bm]\n",
    "    ifMat=np.mean(bmMat,axis=2)\n",
    "\n",
    "\n",
    "    #ib_labelname=[labelname[indch] for indch in ilistCa]\n",
    "    dfilename=basicdir+'/data_subnets/'+id_datasets\n",
    "    print(dfilename)\n",
    "    iliststr = mln_read_listlink(dfilename)\n",
    "    ifMatO=np.zeros([nchan,nchan])\n",
    "    for iind, inode in enumerate(iliststr):\n",
    "        for jind,jnode in enumerate(iliststr):\n",
    "             ifMatO[inode-1,jnode-1]=ifMat[iind,jind]\n",
    "             listlinkall.append((iliststr[iind][0][0],iliststr[jind][0][0]))\n",
    "    N28fMat.append(ifMatO)\n",
    "\n"
   ]
  },
  {
   "cell_type": "code",
   "execution_count": 93,
   "metadata": {
    "collapsed": false
   },
   "outputs": [],
   "source": [
    "fNchanMat=np.zeros([nchan,nchan])\n",
    "for inode in np.arange(nchan):\n",
    "    for jnode in np.arange(nchan):\n",
    "        Nlink=listlinkall.count((inode+1,jnode+1))\n",
    "        \n",
    "        ijfMatSum=[N28fMat[isub][inode][jnode] for isub in np.arange(15)]\n",
    "        fNchanMat[inode,jnode]=np.sum(ijfMatSum)/Nlink                              \n"
   ]
  },
  {
   "cell_type": "code",
   "execution_count": 94,
   "metadata": {
    "collapsed": false
   },
   "outputs": [],
   "source": [
    "hidata = scipy.io.loadmat(basicdir+'/data/'+datasets+'.mat')\n",
    "N84gtMat=hidata['Connectivity']"
   ]
  },
  {
   "cell_type": "code",
   "execution_count": 96,
   "metadata": {
    "collapsed": false
   },
   "outputs": [],
   "source": [
    "scipy.io.savemat(Toutdir+'Int_'+datasets+'_'+bm+'.mat',{'fNchanMat':fNchanMat,'N28fMat':N28fMat,'gtMat':N84gtMat})"
   ]
  },
  {
   "cell_type": "code",
   "execution_count": 97,
   "metadata": {
    "collapsed": false
   },
   "outputs": [
    {
     "data": {
      "text/plain": [
       "[<matplotlib.axis.YTick at 0x1136cd410>,\n",
       " <matplotlib.axis.YTick at 0x1136cd050>,\n",
       " <matplotlib.axis.YTick at 0x1136eec50>,\n",
       " <matplotlib.axis.YTick at 0x1136f41d0>,\n",
       " <matplotlib.axis.YTick at 0x1131e2850>,\n",
       " <matplotlib.axis.YTick at 0x1136f4310>,\n",
       " <matplotlib.axis.YTick at 0x1136f4910>,\n",
       " <matplotlib.axis.YTick at 0x1136fe090>,\n",
       " <matplotlib.axis.YTick at 0x1136fe7d0>]"
      ]
     },
     "execution_count": 97,
     "metadata": {},
     "output_type": "execute_result"
    },
    {
     "data": {
      "image/png": "[encoded data removed]",
      "text/plain": [
       "<matplotlib.figure.Figure at 0x10b53d710>"
      ]
     },
     "metadata": {},
     "output_type": "display_data"
    }
   ],
   "source": [
    "figure(figsize=(24,8));\n",
    "xindex=np.arange(0,nchan,10);\n",
    "# labelxN84=[labelnameN84[ix] for ix in xindex]\n",
    "\n",
    "ax1=subplot(121);\n",
    "\n",
    "plt.imshow(N84gtMat,interpolation='nearest');\n",
    "ax1.set_xticks(xindex);\n",
    "# ax1.set_xticklabels(labelxN84,size=16)\n",
    "ax1.set_yticks(xindex);\n",
    "# ax1.set_yticklabels(labelxN84,size=16)\n",
    "\n",
    "ax2=subplot(122);\n",
    "plt.imshow(fNchanMat,interpolation='nearest');\n",
    "\n",
    "ax2.set_xticks(xindex);\n",
    "# ax2.set_xticklabels(labelxN84,size=16)\n",
    "ax2.set_yticks(xindex);\n",
    "# ax2.set_yticklabels(labelxN84,size=16)"
   ]
  },
  {
   "cell_type": "code",
   "execution_count": null,
   "metadata": {
    "collapsed": true
   },
   "outputs": [],
   "source": []
  }
 ],
 "metadata": {
  "kernelspec": {
   "display_name": "Python 2",
   "language": "python",
   "name": "python2"
  },
  "language_info": {
   "codemirror_mode": {
    "name": "ipython",
    "version": 2
   },
   "file_extension": ".py",
   "mimetype": "text/x-python",
   "name": "python",
   "nbconvert_exporter": "python",
   "pygments_lexer": "ipython2",
   "version": "2.7.12"
  }
 },
 "nbformat": 4,
 "nbformat_minor": 0
}
